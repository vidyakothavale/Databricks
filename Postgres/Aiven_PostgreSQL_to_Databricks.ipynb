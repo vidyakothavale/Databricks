{
 "cells": [
  {
   "cell_type": "markdown",
   "metadata": {
    "application/vnd.databricks.v1+cell": {
     "cellMetadata": {},
     "inputWidgets": {},
     "nuid": "8762da06-a0a5-4e35-9134-1f441b575cc6",
     "showTitle": false,
     "tableResultSettingsMap": {},
     "title": ""
    }
   },
   "source": [
    "**connect Aiven PostgreSQL to Databricks**:\n",
    "\n",
    "---\n",
    "\n",
    "\n",
    "\n",
    "**🔹 Step 1: Create an Aiven Free Trial Account**\n",
    "1. Sign up at [Aiven](https://console.aiven.io/signup).\n",
    "2. Create a **PostgreSQL** service.\n",
    "3. Copy and save the following **connection details**:\n",
    "\n",
    "   - **Service URI:**  \n",
    "     ```plaintext\n",
    "     Enter service URI\n",
    "     ```\n",
    "   - **Database Name:** `Enter database name`\n",
    "   - **Host:** `Enter host name`\n",
    "   - **Port:** `Enter port number`\n",
    "   - **Username:** `Enter user name`\n",
    "   - **Password:** `Enter password`\n",
    "\n",
    "---\n",
    "\n",
    "**🔹 Step 2: Connect to PostgreSQL from Ubuntu (Linux)**\n",
    "##### **1️⃣ Install PostgreSQL Client**\n",
    "Run the following command to install the PostgreSQL client:\n",
    "```sh\n",
    "sudo apt install postgresql-client -y\n",
    "```\n",
    "\n",
    " **2️⃣ Connect to Aiven PostgreSQL**\n",
    "Use the **psql** command with your **Service URI**:\n",
    "```sh\n",
    "psql <service uri>\n",
    "```\n",
    "\n",
    "---\n",
    "\n",
    "**🔹 Step 3: Create a Table and Insert Data**\n",
    "Once connected to PostgreSQL, run the following SQL commands:\n",
    "\n",
    "```sql\n",
    "CREATE TABLE users (\n",
    "    ID INT PRIMARY KEY,\n",
    "    name VARCHAR(255)\n",
    ");\n",
    "\n",
    "INSERT INTO users (ID, name) VALUES\n",
    "(1, 'Celeste'),\n",
    "(2, 'Jay'),\n",
    "(3, 'Tibs'),\n",
    "(4, 'Olena');\n",
    "\n",
    "SELECT * FROM users;\n",
    "```\n",
    "\n",
    "---\n",
    "\n",
    " **🔹 Step 4: Connect Aiven PostgreSQL to Databricks**\n",
    "1. Open **Databricks**.\n",
    "2. Navigate to **Catalog → External data → Connection**.\n",
    "3. **Create Connections**.\n",
    "4. Choose **PostgreSQL** as the connection type.\n",
    "5. Enter the following details:\n",
    "   - **Host:** `Enter host name`\n",
    "   - **Port:** `Enter port number`\n",
    "   - **Database Name:** `Enter database name`\n",
    "   - **Username:** `Enter username`\n",
    "   - **Password:** `Enter password`\n",
    "6. Click **Test Connection** to verify.\n",
    "7. Click **Save**.\n",
    "\n",
    "---\n",
    "\n",
    "Now, we can **query Aiven PostgreSQL data from Databricks!**"
   ]
  }
 ],
 "metadata": {
  "application/vnd.databricks.v1+notebook": {
   "computePreferences": null,
   "dashboards": [],
   "environmentMetadata": {
    "base_environment": "",
    "client": "2"
   },
   "language": "python",
   "notebookMetadata": {
    "pythonIndentUnit": 4
   },
   "notebookName": "Aiven_PostgreSQL_to_Databricks",
   "widgets": {}
  },
  "language_info": {
   "name": "python"
  }
 },
 "nbformat": 4,
 "nbformat_minor": 0
}
