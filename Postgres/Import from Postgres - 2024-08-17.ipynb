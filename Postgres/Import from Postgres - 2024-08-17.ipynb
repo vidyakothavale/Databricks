{
 "cells": [
  {
   "cell_type": "markdown",
   "metadata": {
    "application/vnd.databricks.v1+cell": {
     "cellMetadata": {},
     "inputWidgets": {},
     "nuid": "8af34d82-17b1-4f08-8ee0-2cdc3dd077bb",
     "showTitle": false,
     "tableResultSettingsMap": {},
     "title": ""
    }
   },
   "source": [
    "\n",
    "# Load data from Postgres to Delta Lake\n",
    "\n",
    "This notebook shows you how to import data from JDBC Postgres databases into a Delta Lake table using Python."
   ]
  },
  {
   "cell_type": "markdown",
   "metadata": {
    "application/vnd.databricks.v1+cell": {
     "cellMetadata": {},
     "inputWidgets": {},
     "nuid": "31d1711b-b275-455d-a0b9-553e360e2758",
     "showTitle": false,
     "tableResultSettingsMap": {},
     "title": ""
    }
   },
   "source": [
    "\n",
    "## Step 1: Connection information\n",
    "\n",
    "First define some variables to programmatically create these connections.\n",
    "\n",
    "Replace all the variables in angle brackets `<>` below with the corresponding information."
   ]
  },
  {
   "cell_type": "code",
   "execution_count": 0,
   "metadata": {
    "application/vnd.databricks.v1+cell": {
     "cellMetadata": {},
     "inputWidgets": {},
     "nuid": "efbbfb8b-c8f7-4d57-b1f4-06f85a0f414c",
     "showTitle": false,
     "tableResultSettingsMap": {},
     "title": ""
    }
   },
   "outputs": [],
   "source": [
    "driver = \"org.postgresql.Driver\"\n",
    "\n",
    "database_host = \"<database-host-url>\"\n",
    "database_port = \"5432\" # update if you use a non-default port\n",
    "database_name = \"<database-name>\" # eg. postgres\n",
    "table = \"<table-name>\" # if your table is in a non-default schema, set as <schema>.<table-name> \n",
    "user = \"<username>\"\n",
    "password = \"<password>\"\n",
    "\n",
    "url = f\"jdbc:postgresql://{database_host}:{database_port}/{database_name}\"\n",
    "\n",
    "print(url)"
   ]
  },
  {
   "cell_type": "markdown",
   "metadata": {
    "application/vnd.databricks.v1+cell": {
     "cellMetadata": {},
     "inputWidgets": {},
     "nuid": "0b7d991b-4014-45b3-867a-7ebb40a37331",
     "showTitle": false,
     "tableResultSettingsMap": {},
     "title": ""
    }
   },
   "source": [
    "\n",
    "The full URL printed out above should look something like:\n",
    "\n",
    "```\n",
    "jdbc:postgresql://localhost:5432/my_database\n",
    "```\n",
    "\n",
    "### Check connectivity\n",
    "\n",
    "Depending on security settings for your Postgres database and Databricks workspace, you may not have the proper ports open to connect.\n",
    "\n",
    "Replace `<database-host-url>` with the universal locator for your Postgres implementation. If you are using a non-default port, also update the 5432.\n",
    "\n",
    "Run the cell below to confirm Databricks can reach your Postgres database."
   ]
  },
  {
   "cell_type": "code",
   "execution_count": 0,
   "metadata": {
    "application/vnd.databricks.v1+cell": {
     "cellMetadata": {},
     "inputWidgets": {},
     "nuid": "bc79b752-eeff-4fc3-98f7-f47e12b85267",
     "showTitle": false,
     "tableResultSettingsMap": {},
     "title": ""
    }
   },
   "outputs": [],
   "source": [
    "%sh\n",
    "nc -vz \"<database-host-url>\" 5432"
   ]
  },
  {
   "cell_type": "markdown",
   "metadata": {
    "application/vnd.databricks.v1+cell": {
     "cellMetadata": {},
     "inputWidgets": {},
     "nuid": "f2f45d7f-e771-40e9-a4b8-3e14bd7d6483",
     "showTitle": false,
     "tableResultSettingsMap": {},
     "title": ""
    }
   },
   "source": [
    "\n",
    "## Step 2: Reading the data\n",
    "\n",
    "Now that you've specified the file metadata, you can create a DataFrame. Use an *option* to infer the data schema from the file. You can also explicitly set this to a particular schema if you have one already.\n",
    "\n",
    "First, create a DataFrame in Python, referencing the variables defined above."
   ]
  },
  {
   "cell_type": "code",
   "execution_count": 0,
   "metadata": {
    "application/vnd.databricks.v1+cell": {
     "cellMetadata": {},
     "inputWidgets": {},
     "nuid": "61ed2ac2-bfe7-4045-90d0-830ee8f5ac00",
     "showTitle": false,
     "tableResultSettingsMap": {},
     "title": ""
    }
   },
   "outputs": [],
   "source": [
    "remote_table = (spark.read\n",
    "    .format(\"jdbc\")\n",
    "    .option(\"driver\", driver)\n",
    "    .option(\"url\", url)\n",
    "    .option(\"dbtable\", table)\n",
    "    .option(\"user\", user)\n",
    "    .option(\"password\", password)\n",
    "    .load()\n",
    ")"
   ]
  },
  {
   "cell_type": "markdown",
   "metadata": {
    "application/vnd.databricks.v1+cell": {
     "cellMetadata": {},
     "inputWidgets": {},
     "nuid": "be40d8c0-b36e-4208-8b7a-65c3bcb4c425",
     "showTitle": false,
     "tableResultSettingsMap": {},
     "title": ""
    }
   },
   "source": [
    "You can view the results of this remote table query."
   ]
  },
  {
   "cell_type": "code",
   "execution_count": 0,
   "metadata": {
    "application/vnd.databricks.v1+cell": {
     "cellMetadata": {},
     "inputWidgets": {},
     "nuid": "354ab029-34c6-4c05-b13e-0a7fae006847",
     "showTitle": false,
     "tableResultSettingsMap": {},
     "title": ""
    }
   },
   "outputs": [],
   "source": [
    "display(remote_table)"
   ]
  },
  {
   "cell_type": "markdown",
   "metadata": {
    "application/vnd.databricks.v1+cell": {
     "cellMetadata": {},
     "inputWidgets": {},
     "nuid": "9d1761ae-e237-4740-9a36-8e789e9fe56f",
     "showTitle": false,
     "tableResultSettingsMap": {},
     "title": ""
    }
   },
   "source": [
    "\n",
    "## Step 3: Create a Delta table\n",
    "\n",
    "The DataFrame defined and displayed above is a temporary connection to the remote database.\n",
    "\n",
    "To ensure that this data can be accessed by relevant users throughout your workspace, save it as a Delta Lake table using the code below."
   ]
  },
  {
   "cell_type": "code",
   "execution_count": 0,
   "metadata": {
    "application/vnd.databricks.v1+cell": {
     "cellMetadata": {},
     "inputWidgets": {},
     "nuid": "52c19f3b-91fa-4f34-8b3b-8ff6c624a852",
     "showTitle": false,
     "tableResultSettingsMap": {},
     "title": ""
    }
   },
   "outputs": [],
   "source": [
    "target_table_name = \"<target-schema>.<target-table-name>\"\n",
    "remote_table.write.mode(\"overwrite\").saveAsTable(target_table_name)"
   ]
  },
  {
   "cell_type": "markdown",
   "metadata": {
    "application/vnd.databricks.v1+cell": {
     "cellMetadata": {},
     "inputWidgets": {},
     "nuid": "f497033c-c76c-4ea2-b201-92216efd630f",
     "showTitle": false,
     "tableResultSettingsMap": {},
     "title": ""
    }
   },
   "source": [
    "\n",
    "This table will persist across cluster sessions, notebooks, and personas throughout your organization.\n",
    "\n",
    "The code below demonstrates querying this data with Python and SQL."
   ]
  },
  {
   "cell_type": "code",
   "execution_count": 0,
   "metadata": {
    "application/vnd.databricks.v1+cell": {
     "cellMetadata": {},
     "inputWidgets": {},
     "nuid": "a5970827-2e27-4382-a7fb-7a5741103027",
     "showTitle": false,
     "tableResultSettingsMap": {},
     "title": ""
    }
   },
   "outputs": [],
   "source": [
    "display(spark.table(target_table_name))"
   ]
  },
  {
   "cell_type": "code",
   "execution_count": 0,
   "metadata": {
    "application/vnd.databricks.v1+cell": {
     "cellMetadata": {},
     "inputWidgets": {},
     "nuid": "73a86db5-d55b-433f-85df-822f7ad1c708",
     "showTitle": false,
     "tableResultSettingsMap": {},
     "title": ""
    }
   },
   "outputs": [],
   "source": [
    "%sql\n",
    "SELECT * FROM <target-schema>.<target-table-name>"
   ]
  }
 ],
 "metadata": {
  "application/vnd.databricks.v1+notebook": {
   "computePreferences": null,
   "dashboards": [],
   "environmentMetadata": null,
   "language": "python",
   "notebookMetadata": {
    "pythonIndentUnit": 4
   },
   "notebookName": "Import from Postgres - 2024-08-17",
   "widgets": {}
  },
  "language_info": {
   "name": "python"
  }
 },
 "nbformat": 4,
 "nbformat_minor": 0
}
